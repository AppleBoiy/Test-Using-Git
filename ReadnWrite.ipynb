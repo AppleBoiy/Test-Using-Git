{
 "cells": [
  {
   "cell_type": "markdown",
   "metadata": {},
   "source": [
    ">## Create a DataFrame"
   ]
  },
  {
   "cell_type": "code",
   "execution_count": 2,
   "metadata": {},
   "outputs": [],
   "source": [
    "import pandas as pd\n",
    "from Class.Accounting import Accounting\n",
    "from Class.Programming import Programming\n",
    "from Class.Sale import Sale"
   ]
  },
  {
   "cell_type": "markdown",
   "metadata": {},
   "source": [
    ">Create Employees\n",
    ">Class Accounting\n",
    "- Name\n",
    "- Salary\n",
    "- Age\n",
    "\n",
    "> Class Programmer\n",
    "- Name\n",
    "- Salary\n",
    "- Experience\n",
    "- Skill\n",
    "\n",
    "> Class Sale\n",
    "- Name\n",
    "- Salary\n",
    "- Area"
   ]
  },
  {
   "cell_type": "code",
   "execution_count": 3,
   "metadata": {},
   "outputs": [],
   "source": [
    "accounting = Accounting('Employee1', 200, 20)\n",
    "programmer = Programming('Employee2', 100, 1, 'GameDev')\n",
    "sale1 = Sale('Employee3', 150,'Chiang Mai')\n",
    "sale2 = Sale('Employee4', 100,'Chiang Rai')"
   ]
  },
  {
   "cell_type": "markdown",
   "metadata": {},
   "source": [
    "># Create DataFrame\n",
    "> GetData Attributes"
   ]
  },
  {
   "cell_type": "code",
   "execution_count": 4,
   "metadata": {},
   "outputs": [
    {
     "data": {
      "text/plain": [
       "{'Name': 'Employee1',\n",
       " 'Salary': 1200,\n",
       " 'Department': 'Accounting',\n",
       " 'Annual Income': 14400,\n",
       " 'Age': 20}"
      ]
     },
     "execution_count": 4,
     "metadata": {},
     "output_type": "execute_result"
    }
   ],
   "source": [
    "accounting.getData()"
   ]
  },
  {
   "cell_type": "markdown",
   "metadata": {},
   "source": [
    "> Series"
   ]
  },
  {
   "cell_type": "code",
   "execution_count": 5,
   "metadata": {},
   "outputs": [
    {
     "data": {
      "text/plain": [
       "Name              Employee3\n",
       "Salary                 1200\n",
       "Department             Sale\n",
       "Annual Income         14400\n",
       "Area             Chiang Mai\n",
       "dtype: object"
      ]
     },
     "execution_count": 5,
     "metadata": {},
     "output_type": "execute_result"
    }
   ],
   "source": [
    "ds_sale1 = pd.Series(sale1.getData())\n",
    "\n",
    "#- For example: sale2 series format\n",
    "ds_sale1\n"
   ]
  },
  {
   "cell_type": "markdown",
   "metadata": {},
   "source": [
    "> Create DataFrame from Series"
   ]
  },
  {
   "cell_type": "code",
   "execution_count": 6,
   "metadata": {},
   "outputs": [
    {
     "data": {
      "text/html": [
       "<div>\n",
       "<style scoped>\n",
       "    .dataframe tbody tr th:only-of-type {\n",
       "        vertical-align: middle;\n",
       "    }\n",
       "\n",
       "    .dataframe tbody tr th {\n",
       "        vertical-align: top;\n",
       "    }\n",
       "\n",
       "    .dataframe thead th {\n",
       "        text-align: right;\n",
       "    }\n",
       "</style>\n",
       "<table border=\"1\" class=\"dataframe\">\n",
       "  <thead>\n",
       "    <tr style=\"text-align: right;\">\n",
       "      <th></th>\n",
       "      <th>Salary</th>\n",
       "      <th>Department</th>\n",
       "      <th>Annual Income</th>\n",
       "      <th>Age</th>\n",
       "      <th>Experiment</th>\n",
       "      <th>Skill</th>\n",
       "      <th>Area</th>\n",
       "    </tr>\n",
       "    <tr>\n",
       "      <th>Name</th>\n",
       "      <th></th>\n",
       "      <th></th>\n",
       "      <th></th>\n",
       "      <th></th>\n",
       "      <th></th>\n",
       "      <th></th>\n",
       "      <th></th>\n",
       "    </tr>\n",
       "  </thead>\n",
       "  <tbody>\n",
       "    <tr>\n",
       "      <th>Employee1</th>\n",
       "      <td>1200</td>\n",
       "      <td>Accounting</td>\n",
       "      <td>14400</td>\n",
       "      <td>20.0</td>\n",
       "      <td>NaN</td>\n",
       "      <td>NaN</td>\n",
       "      <td>NaN</td>\n",
       "    </tr>\n",
       "    <tr>\n",
       "      <th>Employee2</th>\n",
       "      <td>1200</td>\n",
       "      <td>Programming</td>\n",
       "      <td>14400</td>\n",
       "      <td>NaN</td>\n",
       "      <td>1.0</td>\n",
       "      <td>GameDev</td>\n",
       "      <td>NaN</td>\n",
       "    </tr>\n",
       "    <tr>\n",
       "      <th>Employee3</th>\n",
       "      <td>1200</td>\n",
       "      <td>Sale</td>\n",
       "      <td>14400</td>\n",
       "      <td>NaN</td>\n",
       "      <td>NaN</td>\n",
       "      <td>NaN</td>\n",
       "      <td>Chiang Mai</td>\n",
       "    </tr>\n",
       "    <tr>\n",
       "      <th>Employee4</th>\n",
       "      <td>1200</td>\n",
       "      <td>Sale</td>\n",
       "      <td>14400</td>\n",
       "      <td>NaN</td>\n",
       "      <td>NaN</td>\n",
       "      <td>NaN</td>\n",
       "      <td>Chiang Rai</td>\n",
       "    </tr>\n",
       "  </tbody>\n",
       "</table>\n",
       "</div>"
      ],
      "text/plain": [
       "           Salary   Department  Annual Income   Age  Experiment    Skill  \\\n",
       "Name                                                                       \n",
       "Employee1    1200   Accounting          14400  20.0         NaN      NaN   \n",
       "Employee2    1200  Programming          14400   NaN         1.0  GameDev   \n",
       "Employee3    1200         Sale          14400   NaN         NaN      NaN   \n",
       "Employee4    1200         Sale          14400   NaN         NaN      NaN   \n",
       "\n",
       "                 Area  \n",
       "Name                   \n",
       "Employee1         NaN  \n",
       "Employee2         NaN  \n",
       "Employee3  Chiang Mai  \n",
       "Employee4  Chiang Rai  "
      ]
     },
     "execution_count": 6,
     "metadata": {},
     "output_type": "execute_result"
    }
   ],
   "source": [
    "ls_series = [accounting.getData(), programmer.getData(), sale1.getData(), sale2.getData()]\n",
    "df = pd.DataFrame(ls_series)\n",
    "df.set_index('Name', inplace = True)\n",
    "df"
   ]
  },
  {
   "cell_type": "markdown",
   "metadata": {},
   "source": [
    "># TO CSV file&Exel file"
   ]
  },
  {
   "cell_type": "code",
   "execution_count": 7,
   "metadata": {},
   "outputs": [],
   "source": [
    "df.to_csv('./Data/EmployeeDetails.csv')\n",
    "df.to_excel('./Data/EmployeeDetailsTable.xlsx')"
   ]
  }
 ],
 "metadata": {
  "kernelspec": {
   "display_name": "Python 3.9.6 64-bit",
   "language": "python",
   "name": "python3"
  },
  "language_info": {
   "codemirror_mode": {
    "name": "ipython",
    "version": 3
   },
   "file_extension": ".py",
   "mimetype": "text/x-python",
   "name": "python",
   "nbconvert_exporter": "python",
   "pygments_lexer": "ipython3",
   "version": "3.9.6"
  },
  "orig_nbformat": 4,
  "vscode": {
   "interpreter": {
    "hash": "5edc29c2ed010d6458d71a83433b383a96a8cbd3efe8531bc90c4b8a5b8bcec9"
   }
  }
 },
 "nbformat": 4,
 "nbformat_minor": 2
}
